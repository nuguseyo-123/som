{
 "cells": [
  {
   "cell_type": "code",
   "execution_count": 8,
   "id": "5db909a8-c79a-4326-bde2-4dbc5d811ae9",
   "metadata": {},
   "outputs": [],
   "source": [
    "import pandas as pd\n",
    "import faiss\n",
    "import pickle"
   ]
  },
  {
   "cell_type": "code",
   "execution_count": 3,
   "id": "de03a549-db18-4b17-b4b7-0d86c85187a2",
   "metadata": {},
   "outputs": [],
   "source": [
    "#임베딩 데이터 로드\n",
    "emb_df = pd.read_pickle(\"wav2vec2_embeddings.pkl\")\n",
    "X = emb_df.filter(like=\"emb_\").values.astype('float32')\n",
    "assert X.ndim == 2"
   ]
  },
  {
   "cell_type": "code",
   "execution_count": 5,
   "id": "052f6bfc-9c74-488f-8d63-7f50c0ef920e",
   "metadata": {},
   "outputs": [
    {
     "name": "stdout",
     "output_type": "stream",
     "text": [
      "벡터 수 = 24938, 차원 = 768\n"
     ]
    }
   ],
   "source": [
    "#FAISS 인덱스 생성 및 벡터 추가\n",
    "d = X.shape[1]\n",
    "index = faiss.IndexFlatL2(d)\n",
    "index.add(X)\n",
    "print(f\"벡터 수 = {index.ntotal}, 차원 = {index.d}\")"
   ]
  },
  {
   "cell_type": "code",
   "execution_count": 9,
   "id": "c447e17d-348b-4741-9f0c-4187507077fd",
   "metadata": {},
   "outputs": [],
   "source": [
    "# 인덱스 저장\n",
    "faiss.write_index(index, \"emotion_faiss.index\")\n",
    "with open(\"faiss_metadata.pkl\", \"wb\") as f:\n",
    "    pickle.dump(emb_df[[\"wav_id\",\"audio_path\"]].to_dict(\"records\"), f)"
   ]
  }
 ],
 "metadata": {
  "kernelspec": {
   "display_name": "Python 3 (ipykernel)",
   "language": "python",
   "name": "python3"
  },
  "language_info": {
   "codemirror_mode": {
    "name": "ipython",
    "version": 3
   },
   "file_extension": ".py",
   "mimetype": "text/x-python",
   "name": "python",
   "nbconvert_exporter": "python",
   "pygments_lexer": "ipython3",
   "version": "3.12.9"
  }
 },
 "nbformat": 4,
 "nbformat_minor": 5
}
