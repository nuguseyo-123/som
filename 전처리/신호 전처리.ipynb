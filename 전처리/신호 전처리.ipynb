{
 "cells": [
  {
   "cell_type": "code",
   "execution_count": 2,
   "id": "70e5e6ab-7870-4c50-8924-4bd45c923dce",
   "metadata": {},
   "outputs": [
    {
     "name": "stderr",
     "output_type": "stream",
     "text": [
      "100%|██████████| 24938/24938 [00:43<00:00, 573.21it/s]"
     ]
    },
    {
     "name": "stdout",
     "output_type": "stream",
     "text": [
      "🎯 전처리 완료! 남은 유효 샘플 수: 24938\n"
     ]
    },
    {
     "name": "stderr",
     "output_type": "stream",
     "text": [
      "\n"
     ]
    }
   ],
   "source": [
    "import librosa\n",
    "import numpy as np\n",
    "import os\n",
    "import pandas as pd\n",
    "from tqdm import tqdm\n",
    "\n",
    "# 데이터 로드\n",
    "df = pd.read_csv(\"aihub_emotion_labeled_mapped.csv\", encoding=\"cp949\", sep=\"\\t\")\n",
    "\n",
    "# 존재하는 파일만 필터링\n",
    "df['file_exist'] = df['audio_path'].apply(lambda x: os.path.exists(x) if pd.notnull(x) else False)\n",
    "df = df[df['file_exist'] & df['final_emotion'].notnull()].copy()\n",
    "\n",
    "# 전처리 기준\n",
    "TARGET_SR = 16000\n",
    "RMS_THRESHOLD_DB = -70  # 너무 조용한 경우 제거\n",
    "\n",
    "def is_valid_audio(path):\n",
    "    try:\n",
    "        audio, sr = librosa.load(path, sr=TARGET_SR, mono=True)\n",
    "        rms_db = librosa.power_to_db(librosa.feature.rms(y=audio), ref=np.max)\n",
    "        return rms_db.mean() > RMS_THRESHOLD_DB\n",
    "    except Exception as e:\n",
    "        print(f\"❌ Error loading {path}: {e}\")\n",
    "        return False\n",
    "\n",
    "# 유효한 오디오만 필터링\n",
    "tqdm.pandas()\n",
    "df['valid_signal'] = df['audio_path'].progress_apply(is_valid_audio)\n",
    "\n",
    "# 최종 전처리 완료 데이터셋\n",
    "df_clean = df[df['valid_signal']].copy()\n",
    "print(\"🎯 전처리 완료! 남은 유효 샘플 수:\", len(df_clean))\n",
    "\n",
    "# 저장\n",
    "df_clean.to_csv(\"aihub_emotion_preprocessed.csv\", index=False, encoding=\"utf-8-sig\")"
   ]
  }
 ],
 "metadata": {
  "kernelspec": {
   "display_name": "Python 3 (ipykernel)",
   "language": "python",
   "name": "python3"
  },
  "language_info": {
   "codemirror_mode": {
    "name": "ipython",
    "version": 3
   },
   "file_extension": ".py",
   "mimetype": "text/x-python",
   "name": "python",
   "nbconvert_exporter": "python",
   "pygments_lexer": "ipython3",
   "version": "3.12.9"
  }
 },
 "nbformat": 4,
 "nbformat_minor": 5
}
