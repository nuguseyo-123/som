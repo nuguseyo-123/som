{
 "cells": [
  {
   "cell_type": "code",
   "execution_count": 1,
   "id": "919f4889-6dad-4c4b-94c0-e44fde257efa",
   "metadata": {},
   "outputs": [],
   "source": [
    "import pandas as pd\n",
    "import os"
   ]
  },
  {
   "cell_type": "code",
   "execution_count": 8,
   "id": "cfe65f46-ad94-4494-add6-9e59a1eeacd6",
   "metadata": {},
   "outputs": [],
   "source": [
    "df_4 = pd.read_csv('./감정 분류를 위한 대화 음성 데이터셋/4차년도.csv', encoding=\"cp949\")\n",
    "df_5_1 = pd.read_csv('./감정 분류를 위한 대화 음성 데이터셋/5차년도.csv', encoding=\"cp949\")\n",
    "df_5_2 = pd.read_csv('./감정 분류를 위한 대화 음성 데이터셋/5차년도_2차.csv', encoding=\"cp949\")"
   ]
  },
  {
   "cell_type": "code",
   "execution_count": 9,
   "id": "ad6fcc5d-f786-4cd3-a17e-f5058b409022",
   "metadata": {},
   "outputs": [],
   "source": [
    "# 출처 정보 추가\n",
    "df_4[\"source\"] = \"./4차년도\"\n",
    "df_5_1[\"source\"] = \"./5차년도\"\n",
    "df_5_2[\"source\"] = \"./5차년도_2차\""
   ]
  },
  {
   "cell_type": "code",
   "execution_count": 10,
   "id": "6364b138-8d3e-461b-90a8-604c26742edb",
   "metadata": {},
   "outputs": [],
   "source": [
    "df = pd.concat([df_4, df_5_1, df_5_2], ignore_index=True)"
   ]
  },
  {
   "cell_type": "code",
   "execution_count": 5,
   "id": "6aa03e4c-895e-46ce-9397-e6b2bdea0cac",
   "metadata": {},
   "outputs": [
    {
     "name": "stdout",
     "output_type": "stream",
     "text": [
      "<class 'pandas.core.frame.DataFrame'>\n",
      "RangeIndex: 43991 entries, 0 to 43990\n",
      "Data columns (total 16 columns):\n",
      " #   Column   Non-Null Count  Dtype \n",
      "---  ------   --------------  ----- \n",
      " 0   wav_id   43991 non-null  object\n",
      " 1   발화문      43991 non-null  object\n",
      " 2   상황       43991 non-null  object\n",
      " 3   1번 감정    43991 non-null  object\n",
      " 4   1번 감정세기  43991 non-null  int64 \n",
      " 5   2번 감정    43991 non-null  object\n",
      " 6   2번 감정세기  43991 non-null  int64 \n",
      " 7   3번 감정    43991 non-null  object\n",
      " 8   3번 감정세기  43991 non-null  int64 \n",
      " 9   4번 감정    43991 non-null  object\n",
      " 10  4번감정세기   43991 non-null  int64 \n",
      " 11  5번 감정    43991 non-null  object\n",
      " 12  5번 감정세기  43991 non-null  int64 \n",
      " 13  나이       43991 non-null  int64 \n",
      " 14  성별       43991 non-null  object\n",
      " 15  source   43991 non-null  object\n",
      "dtypes: int64(6), object(10)\n",
      "memory usage: 5.4+ MB\n",
      "None\n"
     ]
    }
   ],
   "source": [
    "print(df.info())"
   ]
  },
  {
   "cell_type": "code",
   "execution_count": 11,
   "id": "0d1d2185-24ad-4026-9bff-f99a6435cbfc",
   "metadata": {},
   "outputs": [],
   "source": [
    "df[\"상황\"] = df[\"상황\"].astype(str).str.strip().str.lower()\n",
    "target_emotions = ['happiness', 'sadness', 'anger', 'neutral', 'disgust']\n",
    "df = df[df[\"상황\"].isin(target_emotions)].reset_index(drop=True)\n",
    "df = df.rename(columns={\"상황\": \"final_emotion\"})"
   ]
  },
  {
   "cell_type": "code",
   "execution_count": 13,
   "id": "54ae3f66-1955-4e1e-b6b1-22e038b0048e",
   "metadata": {},
   "outputs": [
    {
     "name": "stdout",
     "output_type": "stream",
     "text": [
      "✅ 최종 유효 샘플 수: 17255\n"
     ]
    }
   ],
   "source": [
    "def resolve_audio_path(row):\n",
    "    base_path = \"감정 분류를 위한 대화 음성 데이터셋\"\n",
    "    folder = row[\"source\"]\n",
    "    return os.path.join(base_path, folder, row[\"wav_id\"] + \".wav\")\n",
    "\n",
    "df[\"wav_path\"] = df.apply(resolve_audio_path, axis=1)\n",
    "\n",
    "# 실제 파일 존재 여부 확인\n",
    "df[\"file_exist\"] = df[\"wav_path\"].apply(os.path.exists)\n",
    "\n",
    "# 유효 샘플만 필터링\n",
    "df_valid = df[df[\"file_exist\"]].reset_index(drop=True)\n",
    "print(f\"✅ 최종 유효 샘플 수: {len(df_valid)}\")"
   ]
  },
  {
   "cell_type": "code",
   "execution_count": 14,
   "id": "d16da7de-6588-404f-b225-7e8af30f73ea",
   "metadata": {},
   "outputs": [],
   "source": [
    "df_valid.to_csv(\"aihub_emotion_preprocessed_cleaned.csv\", index=False)"
   ]
  }
 ],
 "metadata": {
  "kernelspec": {
   "display_name": "Python 3 (ipykernel)",
   "language": "python",
   "name": "python3"
  },
  "language_info": {
   "codemirror_mode": {
    "name": "ipython",
    "version": 3
   },
   "file_extension": ".py",
   "mimetype": "text/x-python",
   "name": "python",
   "nbconvert_exporter": "python",
   "pygments_lexer": "ipython3",
   "version": "3.12.9"
  }
 },
 "nbformat": 4,
 "nbformat_minor": 5
}
