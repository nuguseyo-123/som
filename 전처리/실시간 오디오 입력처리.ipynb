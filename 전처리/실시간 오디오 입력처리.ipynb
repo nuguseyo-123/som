{
 "cells": [
  {
   "cell_type": "code",
   "execution_count": 6,
   "id": "571d2459-646f-455a-8154-646b8869a58c",
   "metadata": {},
   "outputs": [],
   "source": [
    "import sounddevice as sd\n",
    "from scipy.io.wavfile import write\n",
    "import time\n",
    "import os\n",
    "from datetime import datetime"
   ]
  },
  {
   "cell_type": "code",
   "execution_count": 3,
   "id": "55f47923-a8dc-4b06-8aab-3dad0ea62687",
   "metadata": {},
   "outputs": [],
   "source": [
    "def record_chunks(chunk_duration=15, samplerate=16000):\n",
    "    today_str = datetime.now().strftime(\"%Y-%m-%d\")\n",
    "    chunk_folder = f\"./audio_chunks/{today_str}\"\n",
    "    os.makedirs(chunk_folder, exist_ok=True)\n",
    "\n",
    "    i = 0\n",
    "    while True:\n",
    "        print(f\"Recording chunk {i}\")\n",
    "        recording = sd.rec(int(chunk_duration * samplerate), samplerate=samplerate, channels=1, dtype='int16')\n",
    "        sd.wait()\n",
    "        file_path = f\"{chunk_folder}/chunk_{i}.wav\"\n",
    "        write(file_path, samplerate, recording)\n",
    "        i += 1\n",
    "\n",
    "        # 선택적으로 처리: 감정 예측 후 결과 저장\n",
    "        run_on_folder(chunk_folder)"
   ]
  },
  {
   "cell_type": "code",
   "execution_count": 8,
   "id": "19a60e02-93c9-4561-9a68-e9e93f33a994",
   "metadata": {},
   "outputs": [
    {
     "name": "stdout",
     "output_type": "stream",
     "text": [
      "  0 Microsoft 사운드 매퍼 - Output, MME (0 in, 2 out)\n",
      "< 1 LF24T450F(NVIDIA High Definitio, MME (0 in, 2 out)\n",
      "  2 주 사운드 드라이버, Windows DirectSound (0 in, 2 out)\n",
      "  3 LF24T450F(NVIDIA High Definition Audio), Windows DirectSound (0 in, 2 out)\n",
      "  4 LF24T450F(NVIDIA High Definition Audio), Windows WASAPI (0 in, 2 out)\n",
      "  5 Output (NVIDIA High Definition Audio), Windows WDM-KS (0 in, 2 out)\n",
      "  6 스테레오 믹스 (Realtek HD Audio Stereo input), Windows WDM-KS (2 in, 0 out)\n",
      "  7 라인 입력 (Realtek HD Audio Line input), Windows WDM-KS (2 in, 0 out)\n",
      "  8 Speakers (Realtek HD Audio output), Windows WDM-KS (0 in, 8 out)\n",
      "  9 마이크 (Realtek HD Audio Mic input), Windows WDM-KS (2 in, 0 out)\n",
      "Recording chunk 0\n"
     ]
    },
    {
     "ename": "PortAudioError",
     "evalue": "Error querying device -1",
     "output_type": "error",
     "traceback": [
      "\u001b[31m---------------------------------------------------------------------------\u001b[39m",
      "\u001b[31mPortAudioError\u001b[39m                            Traceback (most recent call last)",
      "\u001b[36mCell\u001b[39m\u001b[36m \u001b[39m\u001b[32mIn[8]\u001b[39m\u001b[32m, line 22\u001b[39m\n\u001b[32m     20\u001b[39m \u001b[38;5;28;01mwhile\u001b[39;00m \u001b[38;5;28;01mTrue\u001b[39;00m:\n\u001b[32m     21\u001b[39m     \u001b[38;5;28mprint\u001b[39m(\u001b[33mf\u001b[39m\u001b[33m\"\u001b[39m\u001b[33mRecording chunk \u001b[39m\u001b[38;5;132;01m{\u001b[39;00mi\u001b[38;5;132;01m}\u001b[39;00m\u001b[33m\"\u001b[39m)\n\u001b[32m---> \u001b[39m\u001b[32m22\u001b[39m     recording = sd.rec(\u001b[38;5;28mint\u001b[39m(chunk_duration * samplerate), samplerate=samplerate, channels=\u001b[32m1\u001b[39m, dtype=\u001b[33m'\u001b[39m\u001b[33mint16\u001b[39m\u001b[33m'\u001b[39m)\n\u001b[32m     23\u001b[39m     sd.wait()\n\u001b[32m     24\u001b[39m     file_path = \u001b[33mf\u001b[39m\u001b[33m\"\u001b[39m\u001b[38;5;132;01m{\u001b[39;00mchunk_folder\u001b[38;5;132;01m}\u001b[39;00m\u001b[33m/chunk_\u001b[39m\u001b[38;5;132;01m{\u001b[39;00mi\u001b[38;5;132;01m}\u001b[39;00m\u001b[33m.wav\u001b[39m\u001b[33m\"\u001b[39m\n",
      "\u001b[36mFile \u001b[39m\u001b[32m~\\.conda\\envs\\py312tf9\\Lib\\site-packages\\sounddevice.py:279\u001b[39m, in \u001b[36mrec\u001b[39m\u001b[34m(frames, samplerate, channels, dtype, out, mapping, blocking, **kwargs)\u001b[39m\n\u001b[32m    276\u001b[39m     ctx.read_indata(indata)\n\u001b[32m    277\u001b[39m     ctx.callback_exit()\n\u001b[32m--> \u001b[39m\u001b[32m279\u001b[39m ctx.start_stream(InputStream, samplerate, ctx.input_channels,\n\u001b[32m    280\u001b[39m                  ctx.input_dtype, callback, blocking, **kwargs)\n\u001b[32m    281\u001b[39m \u001b[38;5;28;01mreturn\u001b[39;00m out\n",
      "\u001b[36mFile \u001b[39m\u001b[32m~\\.conda\\envs\\py312tf9\\Lib\\site-packages\\sounddevice.py:2634\u001b[39m, in \u001b[36m_CallbackContext.start_stream\u001b[39m\u001b[34m(self, StreamClass, samplerate, channels, dtype, callback, blocking, **kwargs)\u001b[39m\n\u001b[32m   2631\u001b[39m \u001b[38;5;28;01mdef\u001b[39;00m\u001b[38;5;250m \u001b[39m\u001b[34mstart_stream\u001b[39m(\u001b[38;5;28mself\u001b[39m, StreamClass, samplerate, channels, dtype, callback,\n\u001b[32m   2632\u001b[39m                  blocking, **kwargs):\n\u001b[32m   2633\u001b[39m     stop()  \u001b[38;5;66;03m# Stop previous playback/recording\u001b[39;00m\n\u001b[32m-> \u001b[39m\u001b[32m2634\u001b[39m     \u001b[38;5;28mself\u001b[39m.stream = StreamClass(samplerate=samplerate,\n\u001b[32m   2635\u001b[39m                               channels=channels,\n\u001b[32m   2636\u001b[39m                               dtype=dtype,\n\u001b[32m   2637\u001b[39m                               callback=callback,\n\u001b[32m   2638\u001b[39m                               finished_callback=\u001b[38;5;28mself\u001b[39m.finished_callback,\n\u001b[32m   2639\u001b[39m                               **kwargs)\n\u001b[32m   2640\u001b[39m     \u001b[38;5;28mself\u001b[39m.stream.start()\n\u001b[32m   2641\u001b[39m     \u001b[38;5;28;01mglobal\u001b[39;00m _last_callback\n",
      "\u001b[36mFile \u001b[39m\u001b[32m~\\.conda\\envs\\py312tf9\\Lib\\site-packages\\sounddevice.py:1440\u001b[39m, in \u001b[36mInputStream.__init__\u001b[39m\u001b[34m(self, samplerate, blocksize, device, channels, dtype, latency, extra_settings, callback, finished_callback, clip_off, dither_off, never_drop_input, prime_output_buffers_using_stream_callback)\u001b[39m\n\u001b[32m   1408\u001b[39m \u001b[38;5;28;01mdef\u001b[39;00m\u001b[38;5;250m \u001b[39m\u001b[34m__init__\u001b[39m(\u001b[38;5;28mself\u001b[39m, samplerate=\u001b[38;5;28;01mNone\u001b[39;00m, blocksize=\u001b[38;5;28;01mNone\u001b[39;00m,\n\u001b[32m   1409\u001b[39m              device=\u001b[38;5;28;01mNone\u001b[39;00m, channels=\u001b[38;5;28;01mNone\u001b[39;00m, dtype=\u001b[38;5;28;01mNone\u001b[39;00m, latency=\u001b[38;5;28;01mNone\u001b[39;00m,\n\u001b[32m   1410\u001b[39m              extra_settings=\u001b[38;5;28;01mNone\u001b[39;00m, callback=\u001b[38;5;28;01mNone\u001b[39;00m, finished_callback=\u001b[38;5;28;01mNone\u001b[39;00m,\n\u001b[32m   1411\u001b[39m              clip_off=\u001b[38;5;28;01mNone\u001b[39;00m, dither_off=\u001b[38;5;28;01mNone\u001b[39;00m, never_drop_input=\u001b[38;5;28;01mNone\u001b[39;00m,\n\u001b[32m   1412\u001b[39m              prime_output_buffers_using_stream_callback=\u001b[38;5;28;01mNone\u001b[39;00m):\n\u001b[32m   1413\u001b[39m \u001b[38;5;250m    \u001b[39m\u001b[33;03m\"\"\"PortAudio input stream (using NumPy).\u001b[39;00m\n\u001b[32m   1414\u001b[39m \n\u001b[32m   1415\u001b[39m \u001b[33;03m    This has the same methods and attributes as `Stream`, except\u001b[39;00m\n\u001b[32m   (...)\u001b[39m\u001b[32m   1438\u001b[39m \n\u001b[32m   1439\u001b[39m \u001b[33;03m    \"\"\"\u001b[39;00m\n\u001b[32m-> \u001b[39m\u001b[32m1440\u001b[39m     _StreamBase.\u001b[34m__init__\u001b[39m(\u001b[38;5;28mself\u001b[39m, kind=\u001b[33m'\u001b[39m\u001b[33minput\u001b[39m\u001b[33m'\u001b[39m, wrap_callback=\u001b[33m'\u001b[39m\u001b[33marray\u001b[39m\u001b[33m'\u001b[39m,\n\u001b[32m   1441\u001b[39m                          **_remove_self(\u001b[38;5;28mlocals\u001b[39m()))\n",
      "\u001b[36mFile \u001b[39m\u001b[32m~\\.conda\\envs\\py312tf9\\Lib\\site-packages\\sounddevice.py:828\u001b[39m, in \u001b[36m_StreamBase.__init__\u001b[39m\u001b[34m(self, kind, samplerate, blocksize, device, channels, dtype, latency, extra_settings, callback, finished_callback, clip_off, dither_off, never_drop_input, prime_output_buffers_using_stream_callback, userdata, wrap_callback)\u001b[39m\n\u001b[32m    825\u001b[39m         samplerate = isamplerate\n\u001b[32m    826\u001b[39m \u001b[38;5;28;01melse\u001b[39;00m:\n\u001b[32m    827\u001b[39m     parameters, \u001b[38;5;28mself\u001b[39m._dtype, \u001b[38;5;28mself\u001b[39m._samplesize, samplerate = \\\n\u001b[32m--> \u001b[39m\u001b[32m828\u001b[39m         _get_stream_parameters(kind, device, channels, dtype, latency,\n\u001b[32m    829\u001b[39m                                extra_settings, samplerate)\n\u001b[32m    830\u001b[39m     \u001b[38;5;28mself\u001b[39m._device = parameters.device\n\u001b[32m    831\u001b[39m     \u001b[38;5;28mself\u001b[39m._channels = parameters.channelCount\n",
      "\u001b[36mFile \u001b[39m\u001b[32m~\\.conda\\envs\\py312tf9\\Lib\\site-packages\\sounddevice.py:2716\u001b[39m, in \u001b[36m_get_stream_parameters\u001b[39m\u001b[34m(kind, device, channels, dtype, latency, extra_settings, samplerate)\u001b[39m\n\u001b[32m   2713\u001b[39m \u001b[38;5;28;01mif\u001b[39;00m samplerate \u001b[38;5;129;01mis\u001b[39;00m \u001b[38;5;28;01mNone\u001b[39;00m:\n\u001b[32m   2714\u001b[39m     samplerate = default.samplerate\n\u001b[32m-> \u001b[39m\u001b[32m2716\u001b[39m info = query_devices(device)\n\u001b[32m   2717\u001b[39m \u001b[38;5;28;01mif\u001b[39;00m channels \u001b[38;5;129;01mis\u001b[39;00m \u001b[38;5;28;01mNone\u001b[39;00m:\n\u001b[32m   2718\u001b[39m     channels = info[\u001b[33m'\u001b[39m\u001b[33mmax_\u001b[39m\u001b[33m'\u001b[39m + kind + \u001b[33m'\u001b[39m\u001b[33m_channels\u001b[39m\u001b[33m'\u001b[39m]\n",
      "\u001b[36mFile \u001b[39m\u001b[32m~\\.conda\\envs\\py312tf9\\Lib\\site-packages\\sounddevice.py:572\u001b[39m, in \u001b[36mquery_devices\u001b[39m\u001b[34m(device, kind)\u001b[39m\n\u001b[32m    570\u001b[39m info = _lib.Pa_GetDeviceInfo(device)\n\u001b[32m    571\u001b[39m \u001b[38;5;28;01mif\u001b[39;00m \u001b[38;5;129;01mnot\u001b[39;00m info:\n\u001b[32m--> \u001b[39m\u001b[32m572\u001b[39m     \u001b[38;5;28;01mraise\u001b[39;00m PortAudioError(\u001b[33mf\u001b[39m\u001b[33m'\u001b[39m\u001b[33mError querying device \u001b[39m\u001b[38;5;132;01m{\u001b[39;00mdevice\u001b[38;5;132;01m}\u001b[39;00m\u001b[33m'\u001b[39m)\n\u001b[32m    573\u001b[39m \u001b[38;5;28;01massert\u001b[39;00m info.structVersion == \u001b[32m2\u001b[39m\n\u001b[32m    574\u001b[39m name_bytes = _ffi.string(info.name)\n",
      "\u001b[31mPortAudioError\u001b[39m: Error querying device -1"
     ]
    }
   ],
   "source": [
    "#실시간 루프 관리 + 정지 조건 추가\n",
    "\n",
    "import sounddevice as sd\n",
    "print(sd.query_devices())\n",
    "\n",
    "#설정\n",
    "chunk_duration = 15  # 초\n",
    "samplerate = 16000   # Hz\n",
    "i = 0\n",
    "\n",
    "\n",
    "#저장 폴더 설정\n",
    "today_str = datetime.now().strftime(\"%Y-%m-%d\")\n",
    "chunk_folder = f\"./audio_chunks/{today_str}\"\n",
    "os.makedirs(chunk_folder, exist_ok=True)\n",
    "\n",
    "\n",
    "# 무한 녹음 + 감정 분석\n",
    "try:\n",
    "    while True:\n",
    "        print(f\"Recording chunk {i}\")\n",
    "        recording = sd.rec(int(chunk_duration * samplerate), samplerate=samplerate, channels=1, dtype='int16')\n",
    "        sd.wait()\n",
    "        file_path = f\"{chunk_folder}/chunk_{i}.wav\"\n",
    "        write(file_path, samplerate, recording)\n",
    "\n",
    "        # 감정 예측 수행\n",
    "        run_on_folder(chunk_folder)\n",
    "\n",
    "        i += 1\n",
    "except KeyboardInterrupt:\n",
    "    print(\"Recording stopped.\")"
   ]
  }
 ],
 "metadata": {
  "kernelspec": {
   "display_name": "Python 3 (ipykernel)",
   "language": "python",
   "name": "python3"
  },
  "language_info": {
   "codemirror_mode": {
    "name": "ipython",
    "version": 3
   },
   "file_extension": ".py",
   "mimetype": "text/x-python",
   "name": "python",
   "nbconvert_exporter": "python",
   "pygments_lexer": "ipython3",
   "version": "3.12.9"
  }
 },
 "nbformat": 4,
 "nbformat_minor": 5
}
